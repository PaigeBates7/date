{
 "cells": [
  {
   "cell_type": "code",
   "execution_count": 17,
   "metadata": {},
   "outputs": [
    {
     "name": "stdout",
     "output_type": "stream",
     "text": [
      "2024-09-28\n"
     ]
    }
   ],
   "source": [
    "with open ('today.txt', 'r') as f:\n",
    "    today_string=f.read()\n",
    "    print(today_string)"
   ]
  },
  {
   "cell_type": "code",
   "execution_count": 26,
   "metadata": {},
   "outputs": [
    {
     "name": "stdout",
     "output_type": "stream",
     "text": [
      "Currnet time2024-09-28 15:40:08.693456\n",
      "Currnet time2024-09-28 15:40:08.730970\n",
      "Currnet time2024-09-28 15:40:09.700495\n",
      "done\n"
     ]
    }
   ],
   "source": [
    "import multiprocessing\n",
    "import random \n",
    "import time\n",
    "from datetime import datetime\n",
    "def print_time():\n",
    "    now = datetime.now()\n",
    "    print(\"Currnet time{}\".format(now))\n",
    "    time.sleep(random.uniform(0, 1))\n",
    "\n",
    "if __name__ == '__main__':\n",
    "    p1 = multiprocessing.Process(target=print_time())\n",
    "    p2 = multiprocessing.Process(target=print_time())\n",
    "    p3 = multiprocessing.Process(target=print_time())\n",
    "    p1.start()\n",
    "    p2.start()\n",
    "    p3.start()\n",
    "    p1.join()\n",
    "    p2.join()\n",
    "    p3.join()\n",
    "    print('done')\n",
    "        "
   ]
  }
 ],
 "metadata": {
  "kernelspec": {
   "display_name": "Python 3",
   "language": "python",
   "name": "python3"
  },
  "language_info": {
   "codemirror_mode": {
    "name": "ipython",
    "version": 3
   },
   "file_extension": ".py",
   "mimetype": "text/x-python",
   "name": "python",
   "nbconvert_exporter": "python",
   "pygments_lexer": "ipython3",
   "version": "3.12.5"
  }
 },
 "nbformat": 4,
 "nbformat_minor": 2
}
