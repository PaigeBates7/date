{
 "cells": [
  {
   "cell_type": "code",
   "execution_count": 13,
   "metadata": {},
   "outputs": [],
   "source": [
    "from datetime import date, datetime\n",
    "with open('today.txt', 'w') as file: \n",
    "    file.write(str(date.today()))\n",
    "    "
   ]
  },
  {
   "cell_type": "code",
   "execution_count": 14,
   "metadata": {},
   "outputs": [],
   "source": [
    "with open ('today.txt', 'r') as file:\n",
    "    today_string = file.read()"
   ]
  },
  {
   "cell_type": "code",
   "execution_count": 15,
   "metadata": {},
   "outputs": [],
   "source": [
    "todays_date = datetime.strptime(today_string, '%Y-%m-%d').date()"
   ]
  },
  {
   "cell_type": "code",
   "execution_count": 16,
   "metadata": {},
   "outputs": [],
   "source": [
    "import multiprocessing\n",
    "import random \n",
    "import time\n",
    "from datetime import datetime\n",
    "def print_time():\n",
    "    time.sleep(random.uniform(0, 1))\n",
    "    now = datetime.now()\n",
    "    print(f'Currnet time{datetime.now()}')\n",
    "\n",
    "if __name__ == '__main__':\n",
    "    processes = []\n",
    "    for p in range(3):\n",
    "        p = multiprocessing.Process(target=print_time)\n",
    "        p.start()\n",
    "        p.join()\n",
    "        "
   ]
  }
 ],
 "metadata": {
  "kernelspec": {
   "display_name": "Python 3",
   "language": "python",
   "name": "python3"
  },
  "language_info": {
   "codemirror_mode": {
    "name": "ipython",
    "version": 3
   },
   "file_extension": ".py",
   "mimetype": "text/x-python",
   "name": "python",
   "nbconvert_exporter": "python",
   "pygments_lexer": "ipython3",
   "version": "3.11.9"
  }
 },
 "nbformat": 4,
 "nbformat_minor": 2
}
